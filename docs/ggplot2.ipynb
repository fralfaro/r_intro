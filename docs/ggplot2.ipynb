{
 "cells": [
  {
   "cell_type": "markdown",
   "metadata": {
    "id": "i1Sf0c1PyQsB"
   },
   "source": [
    "# Ggplot2\n",
    "\n",
    "## Introducción\n",
    "\n",
    "<img src=\"https://ggplot2.tidyverse.org/logo.png\" width = \"200\">\n",
    "\n",
    "La librería [ggplot2](https://github.com/tidyverse/ggplot2) en R es una herramienta poderosa para la visualización de datos. Fue desarrollada por Hadley Wickham y se basa en la gramática de gráficos (Grammar of Graphics) para crear visualizaciones claras y atractivas.\n",
    "\n",
    "Las principales características y beneficios de ggplot2 son:\n",
    "\n",
    "* **Sintaxis declarativa**: ggplot2 utiliza una sintaxis declarativa que permite a los usuarios especificar cómo quieren que se vea la visualización en lugar de cómo se debe crear. Esto facilita la construcción de gráficos complejos y personalizados.\n",
    "\n",
    "* **Capacidad de capas**: ggplot2 se basa en la idea de añadir capas de información a un gráfico. Esto significa que puedes agregar capas para representar puntos, líneas, áreas, barras y más, lo que te brinda un alto grado de flexibilidad para crear visualizaciones complejas y detalladas.\n",
    "\n",
    "* **Gráficos estéticamente agradables**: ggplot2 está diseñado para generar gráficos atractivos visualmente por defecto. Utiliza esquemas de color agradables, proporciona opciones de estilo y formato, y ofrece una amplia gama de elementos gráficos para personalizar y mejorar la apariencia del gráfico.\n",
    "\n",
    "* **Escalas y transformaciones**: ggplot2 proporciona una amplia gama de escalas y transformaciones para ajustar la visualización a tus necesidades. Puedes cambiar las escalas de los ejes, ajustar los límites, aplicar transformaciones logarítmicas y mucho más.\n",
    "\n",
    "* **Facetas**: Con ggplot2, puedes crear gráficos facetados, lo que significa que puedes dividir tus datos en grupos y mostrar visualizaciones separadas para cada grupo en una sola imagen. Esto es útil para comparar grupos o realizar análisis comparativos.\n",
    "\n",
    "* **Personalización completa**: ggplot2 ofrece una gran cantidad de opciones de personalización para adaptar la visualización a tus preferencias. Puedes ajustar el tamaño y estilo de las etiquetas, agregar títulos, leyendas y anotaciones, cambiar los ejes y mucho más."
   ]
  },
  {
   "cell_type": "markdown",
   "metadata": {
    "colab": {
     "base_uri": "https://localhost:8080/"
    },
    "id": "leItcDxbyVPn",
    "outputId": "492a3c22-4b80-44ac-c01f-68c2aa832d19"
   },
   "source": [
    "## Ejemplo \n",
    "\n",
    "Mostraremos unejemplo completo de cómo utilizar `ggplot2` con el conjunto de datos \"**mtcars**\" incorporado en R:\n",
    "\n",
    "```R\n",
    "# Cargar el paquete ggplot2\n",
    "library(ggplot2)\n",
    "\n",
    "# Ver una vista previa del conjunto de datos mtcars\n",
    "head(mtcars)\n",
    "```"
   ]
  },
  {
   "cell_type": "markdown",
   "metadata": {
    "id": "Zh7avzStyZRU"
   },
   "source": [
    "**Gráfico de dispersión simple**:\n",
    "\n",
    "```R\n",
    "# Gráfico de dispersión entre el consumo de combustible (mpg) y la potencia bruta (hp)\n",
    "ggplot(mtcars, aes(x = mpg, y = hp)) +\n",
    "  geom_point() +\n",
    "  labs(x = \"Consumo de Combustible (mpg)\", y = \"Potencia Bruta (hp)\", title = \"Relación entre Consumo de Combustible y Potencia Bruta\")\n",
    "```\n",
    "\n",
    "**Gráfico de barras simple**:\n",
    "\n",
    "```R\n",
    "# Gráfico de barras para mostrar el número de cilindros (cyl) en el conjunto de datos\n",
    "ggplot(mtcars, aes(x = factor(cyl))) +\n",
    "  geom_bar(fill = \"steelblue\") +\n",
    "  labs(x = \"Número de Cilindros\", y = \"Frecuencia\", title = \"Distribución del Número de Cilindros\")\n",
    "```\n",
    "\n",
    "**Gráfico de líneas simple**:\n",
    "\n",
    "```R\n",
    "# Gráfico de líneas para mostrar la evolución del consumo de combustible (mpg) a medida que aumenta la potencia bruta (hp)\n",
    "ggplot(mtcars, aes(x = hp, y = mpg)) +\n",
    "  geom_line() +\n",
    "  labs(x = \"Potencia Bruta (hp)\", y = \"Consumo de Combustible (mpg)\", title = \"Evolución del Consumo de Combustible por Potencia Bruta\")\n",
    "```\n",
    "\n",
    "**Gráfico de cajas y bigotes**:\n",
    "\n",
    "```R\n",
    "# Gráfico de cajas y bigotes para mostrar la distribución del consumo de combustible (mpg) según el número de cilindros (cyl)\n",
    "ggplot(mtcars, aes(x = factor(cyl), y = mpg)) +\n",
    "  geom_boxplot(fill = \"lightblue\", color = \"steelblue\") +\n",
    "  labs(x = \"Número de Cilindros\", y = \"Consumo de Combustible (mpg)\", title = \"Distribución del Consumo de Combustible por Número de Cilindros\")\n",
    "```\n",
    "\n",
    "**Gráfico de dispersión múltiple con facet_wrap()**:\n",
    "\n",
    "```R\n",
    "# Gráfico de dispersión entre el consumo de combustible (mpg) y la potencia bruta (hp), dividido por el número de cilindros (cyl)\n",
    "ggplot(mtcars, aes(x = mpg, y = hp)) +\n",
    "  geom_point() +\n",
    "  facet_wrap(~ cyl) +\n",
    "  labs(x = \"Consumo de Combustible (mpg)\", y = \"Potencia Bruta (hp)\", title = \"Relación entre Consumo de Combustible y Potencia Bruta por Número de Cilindros\")\n",
    "```\n",
    "\n",
    "**Gráfico de barras con group_by() y stat_summary()**:\n",
    "\n",
    "\n",
    "```R\n",
    "# Gráfico de barras para mostrar el consumo de combustible promedio (mpg) por número de cilindros (cyl)\n",
    "ggplot(mtcars, aes(x = factor(cyl), y = mpg)) +\n",
    "  stat_summary(fun = \"mean\", geom = \"bar\", fill = \"steelblue\") +\n",
    "  labs(x = \"Número de Cilindros\", y = \"Consumo de Combustible Promedio (mpg)\", title = \"Consumo de Combustible Promedio por Número de Cilindros\")\n",
    "```\n",
    "\n",
    "\n",
    "\n"
   ]
  }
 ],
 "metadata": {
  "colab": {
   "provenance": []
  },
  "kernelspec": {
   "display_name": "R",
   "name": "ir"
  },
  "language_info": {
   "name": "R"
  }
 },
 "nbformat": 4,
 "nbformat_minor": 1
}
