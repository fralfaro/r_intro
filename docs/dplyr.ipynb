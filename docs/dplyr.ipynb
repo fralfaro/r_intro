{
 "cells": [
  {
   "cell_type": "markdown",
   "metadata": {
    "id": "i1Sf0c1PyQsB"
   },
   "source": [
    "<a href=\"https://colab.research.google.com/github/fralfaro/r_intro/blob/main/docs/dplyr.ipynb\" target=\"_parent\"><img src=\"https://colab.research.google.com/assets/colab-badge.svg\" alt=\"Open In Colab\"/></a>\n",
    "\n",
    "\n",
    "# Dplyr\n",
    "\n",
    "## Introducción\n",
    "\n",
    "<img src=\"https://raw.githubusercontent.com/tidyverse/dplyr/main/man/figures/logo.png\" width = \"200\">\n",
    "\n",
    "\n",
    "La librería [dplyr](https://github.com/tidyverse/dplyr) en R es una herramienta poderosa para realizar operaciones de manipulación y transformación de datos de manera eficiente. Fue desarrollada por Hadley Wickham y se basa en una gramática coherente y fácil de usar para trabajar con datos en R. Dplyr se enfoca en proporcionar un conjunto de funciones optimizadas para realizar operaciones comunes de limpieza, filtrado, transformación y resumen de datos.\n",
    "\n",
    "Las principales características y beneficios de dplyr son:\n",
    "\n",
    "* **Sintaxis intuitiva**: Dplyr utiliza una sintaxis clara y legible que facilita la comprensión y escritura de código. Esto permite a los usuarios expresar fácilmente las operaciones que desean realizar sobre los datos.\n",
    "\n",
    "* **Rendimiento eficiente**: Dplyr ha sido diseñado para ofrecer un rendimiento óptimo, especialmente al trabajar con grandes conjuntos de datos. Utiliza técnicas de optimización y aprovecha las funciones de bajo nivel en R para mejorar la velocidad de procesamiento.\n",
    "\n",
    "* **Operaciones verbales**: Las funciones de dplyr están diseñadas con nombres verbales intuitivos que reflejan las acciones que realizan. Esto hace que el código sea más legible y facilita la comprensión de las operaciones realizadas.\n",
    "\n",
    "* **Manipulación de datos**: Dplyr proporciona funciones para seleccionar columnas específicas (select), filtrar filas basadas en condiciones lógicas (filter), agregar nuevas columnas o transformar columnas existentes (mutate) y ordenar los datos según una o varias columnas (arrange).\n",
    "\n",
    "* **Operaciones de agregación**: Dplyr permite realizar operaciones de agregación por grupos utilizando las funciones group_by() y summarize(). Esto permite calcular estadísticas resumidas, como la media, suma, conteo, etc., para diferentes grupos de datos.\n",
    "\n",
    "* **Combinación de datos**: Dplyr ofrece funciones para combinar diferentes conjuntos de datos basándose en columnas comunes utilizando las funciones join(). Esto permite realizar uniones internas, externas, izquierdas y derechas entre los conjuntos de datos."
   ]
  },
  {
   "cell_type": "markdown",
   "metadata": {
    "colab": {
     "base_uri": "https://localhost:8080/"
    },
    "id": "leItcDxbyVPn",
    "outputId": "492a3c22-4b80-44ac-c01f-68c2aa832d19"
   },
   "source": [
    "## Ejemplo \n",
    "\n",
    "Mostraremos unejemplo completo de cómo utilizar `dplyr` con el conjunto de datos \"**mtcars**\" incorporado en R:\n",
    "\n",
    "```R\n",
    "# Cargar el paquete dplyr\n",
    "library(dplyr)\n",
    "\n",
    "# Ver una vista previa del conjunto de datos mtcars\n",
    "head(mtcars)\n",
    "```"
   ]
  },
  {
   "cell_type": "markdown",
   "metadata": {
    "id": "Zh7avzStyZRU"
   },
   "source": [
    "**Seleccionar columnas específicas**:\n",
    "\n",
    "\n",
    "```R\n",
    "# Seleccionar las columnas \"mpg\", \"cyl\" y \"gear\"\n",
    "mtcars_select <- select(mtcars, mpg, cyl, gear)\n",
    "head(mtcars_select)\n",
    "```\n",
    "\n",
    "**Filtrar filas basadas en una condición**:\n",
    "\n",
    "```R\n",
    "# Filtrar las filas donde el número de cilindros (cyl) es igual a 6\n",
    "mtcars_filter <- filter(mtcars, cyl == 6)\n",
    "head(mtcars_filter)\n",
    "head(mtcars)\n",
    "```\n",
    "**Agregar una nueva columna calculada**:\n",
    "\n",
    "```R\n",
    "# Agregar una nueva columna \"km_l\" que calcule el consumo de combustible en km por litro\n",
    "mtcars_mutate <- mutate(mtcars, km_l = 1.60934 * mpg / 3.78541)\n",
    "head(mtcars_mutate)\n",
    "```\n",
    "\n",
    "**Ordenar el conjunto de datos por una columna específica**:\n",
    "\n",
    "```R\n",
    "# Ordenar las filas por el número de cilindros (cyl) en orden descendente\n",
    "mtcars_arrange <- arrange(mtcars, desc(cyl))\n",
    "head(mtcars_arrange)\n",
    "```\n",
    "\n",
    "**Realizar una operación de agregación por grupo**:\n",
    "\n",
    "```R\n",
    "# Agrupar el conjunto de datos por el número de cilindros (cyl) y calcular la media del consumo de combustible (mpg) y la potencia bruta (hp)\n",
    "mtcars_group <- group_by(mtcars, cyl)\n",
    "mtcars_summary <- summarize(mtcars_group, media_mpg = mean(mpg), media_hp = mean(hp))\n",
    "mtcars_summary\n",
    "```\n"
   ]
  }
 ],
 "metadata": {
  "colab": {
   "provenance": []
  },
  "kernelspec": {
   "display_name": "R",
   "name": "ir"
  },
  "language_info": {
   "name": "R"
  }
 },
 "nbformat": 4,
 "nbformat_minor": 1
}
