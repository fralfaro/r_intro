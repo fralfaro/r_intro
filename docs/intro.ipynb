{
 "cells": [
  {
   "cell_type": "markdown",
   "metadata": {
    "id": "i1Sf0c1PyQsB"
   },
   "source": [
    "# Introducción"
   ]
  },
  {
   "cell_type": "markdown",
   "metadata": {
    "colab": {
     "base_uri": "https://localhost:8080/"
    },
    "id": "leItcDxbyVPn",
    "outputId": "492a3c22-4b80-44ac-c01f-68c2aa832d19"
   },
   "source": [
    "## Acerca de R\n",
    "\n",
    "<img src=\"https://upload.wikimedia.org/wikipedia/commons/thumb/1/1b/R_logo.svg/2560px-R_logo.svg.png\" width = \"200\">\n",
    "\n",
    "[R](https://cran.r-project.org/) es un lenguaje de programación y un entorno de software utilizado principalmente para el análisis estadístico, la manipulación de datos y la generación de gráficos. Fue desarrollado inicialmente por Ross Ihaka y Robert Gentleman en la década de 1990 en la Universidad de Auckland, Nueva Zelanda.\n",
    "\n",
    "R es un lenguaje interpretado y de código abierto, lo que significa que su código fuente está disponible para su modificación y mejora por parte de la comunidad de usuarios. Además, cuenta con una amplia variedad de paquetes y bibliotecas que se pueden utilizar para ampliar sus capacidades.\n",
    "\n",
    "El lenguaje R se destaca por su enfoque en el análisis estadístico y la visualización de datos. Proporciona una amplia gama de funciones y herramientas para realizar cálculos estadísticos avanzados, modelado de datos, pruebas de hipótesis y técnicas de visualización. Además, R tiene una sintaxis fácil de usar y es altamente flexible, lo que lo hace adecuado para el análisis exploratorio de datos y el desarrollo de algoritmos estadísticos personalizados.\n",
    "\n",
    "<img src=\"https://soka.gitlab.io/blog/post/2019-01-27-introduccion-r/images/rgui_suma.PNG\" width = \"400\">\n",
    "\n",
    "\n",
    "El entorno de software de R incluye una consola interactiva en la que se pueden ejecutar comandos y ver los resultados de forma inmediata. También es posible escribir scripts en R para ejecutar varias operaciones en secuencia. Además, R se puede integrar con otros lenguajes de programación como C++, Java y Python, lo que permite combinar las fortalezas de diferentes herramientas en un solo flujo de trabajo.\n",
    "\n",
    "R es ampliamente utilizado en la comunidad académica y en la industria para el análisis de datos, la investigación científica, la minería de datos y el desarrollo de modelos estadísticos. Su popularidad se debe en gran parte a su capacidad para manejar grandes conjuntos de datos, su flexibilidad y su extensa colección de paquetes y bibliotecas disponibles."
   ]
  },
  {
   "cell_type": "markdown",
   "metadata": {
    "id": "Zh7avzStyZRU"
   },
   "source": [
    "## Acerca de RStudio \n",
    "\n",
    "<img src=\"https://3.bp.blogspot.com/-bYTt_6a2LCw/VUx7iEHTZnI/AAAAAAAAFLY/EScJtfvl1-E/s1600/RStudio-screenshot.png\" width = \"500\">\n",
    "\n",
    "\n",
    "\n",
    "[RStudio](https://posit.co/download/rstudio-desktop/) es un entorno de desarrollo integrado (IDE) para el lenguaje de programación R. Proporciona una interfaz amigable y herramientas adicionales que facilitan la programación, el análisis de datos y la generación de gráficos utilizando R.\n",
    "\n",
    "RStudio está diseñado para mejorar la productividad de los usuarios de R al proporcionar una serie de características útiles. Algunas de las características principales de RStudio incluyen:\n",
    "\n",
    "1. **Editor de código**: RStudio proporciona un editor de código resaltado de sintaxis que facilita la escritura y edición de scripts de R. El editor incluye funciones como autocompletado, indentación automática, búsqueda y reemplazo, y soporte para múltiples pestañas.\n",
    "\n",
    "2. **Consola interactiva**: RStudio tiene una consola interactiva en la que se pueden ejecutar comandos de R y ver los resultados de inmediato. La consola también guarda el historial de comandos, lo que facilita la reproducción de sesiones anteriores y el acceso a comandos previamente ejecutados.\n",
    "\n",
    "3. **Visualización de resultados**: Los resultados de los comandos de R, como tablas y gráficos, se muestran de manera conveniente en la interfaz de RStudio. Esto permite una visualización rápida y fácil de los resultados sin tener que alternar entre ventanas o archivos.\n",
    "\n",
    "4. **Administrador de proyectos**: RStudio incluye un administrador de proyectos que ayuda a organizar y gestionar los archivos y carpetas de un proyecto. Esto permite una gestión más eficiente de los archivos de datos, scripts y resultados asociados con un proyecto en particular.\n",
    "\n",
    "5. **Depuración de código**: RStudio proporciona herramientas para depurar y encontrar errores en el código de R. Estas herramientas permiten establecer puntos de interrupción, realizar un seguimiento de la ejecución del código paso a paso y examinar los valores de las variables en diferentes momentos del programa.\n",
    "\n",
    "6. **Integración con versiones de control**: RStudio se integra con sistemas de control de versiones como Git, lo que facilita el seguimiento de cambios en el código y la colaboración en proyectos."
   ]
  }
 ],
 "metadata": {
  "colab": {
   "provenance": []
  },
  "kernelspec": {
   "display_name": "R",
   "name": "ir"
  },
  "language_info": {
   "name": "R"
  }
 },
 "nbformat": 4,
 "nbformat_minor": 1
}
