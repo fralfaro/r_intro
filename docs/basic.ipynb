{
  "cells": [
    {
      "cell_type": "markdown",
      "metadata": {
        "id": "i1Sf0c1PyQsB"
      },
      "source": [
        "<a href=\"https://colab.research.google.com/github/fralfaro/r_intro/blob/main/docs/basic.ipynb\" target=\"_parent\"><img src=\"https://colab.research.google.com/assets/colab-badge.svg\" alt=\"Open In Colab\"/></a>\n",
        "\n",
        "\n",
        "# Nomenclatura"
      ]
    },
    {
      "cell_type": "markdown",
      "metadata": {
        "id": "N4By_5Nc7IgO"
      },
      "source": [
        "## Hola mundo!\n",
        "\n",
        "\n",
        "Para imprimir \"Hola mundo\" en R, puedes utilizar la función print() o simplemente escribir el texto entre comillas y presionar Enter. Aquí tienes dos formas de hacerlo:\n",
        "\n"
      ]
    },
    {
      "cell_type": "code",
      "source": [
        "print(\"Hola mundo\")"
      ],
      "metadata": {
        "id": "rR-7n-Tl7L4q",
        "outputId": "f204a49d-2dc2-4a06-b8a3-b4f1eb19801c",
        "colab": {
          "base_uri": "https://localhost:8080/"
        }
      },
      "execution_count": null,
      "outputs": [
        {
          "output_type": "stream",
          "name": "stdout",
          "text": [
            "[1] \"Hola mundo\"\n"
          ]
        }
      ]
    },
    {
      "cell_type": "markdown",
      "metadata": {
        "id": "i0h7Ovma7IgP"
      },
      "source": [
        "## Tipos de Variables\n",
        "\n",
        "\n",
        "En R, existen varios tipos de variables que puedes utilizar para almacenar diferentes tipos de datos. Aquí hay algunos de los tipos de variables más comunes en R:\n",
        "\n",
        "1.- `Numeric`: Las variables de tipo \"numeric\" almacenan valores numéricos, ya sean enteros o números de punto flotante (decimales). Puedes identificar una variable como numérica si sus valores son números. Por ejemplo:\n"
      ]
    },
    {
      "cell_type": "code",
      "source": [
        "edad <- 25\n",
        "pi <- 3.14159"
      ],
      "metadata": {
        "id": "-DJE5lEJ8At1"
      },
      "execution_count": null,
      "outputs": []
    },
    {
      "cell_type": "markdown",
      "source": [
        "\n",
        "2.- `Integer`: Las variables de tipo \"integer\" almacenan números enteros. A diferencia de las variables \"numeric\", las variables \"integer\" solo pueden almacenar números enteros sin decimales. Para identificar una variable como entera, puedes utilizar la función is.integer(). Por ejemplo:\n"
      ],
      "metadata": {
        "id": "78RifWpj7Rms"
      }
    },
    {
      "cell_type": "code",
      "source": [
        "numero_entero <- 10L\n",
        "is.integer(numero_entero)  # Devolverá TRUE"
      ],
      "metadata": {
        "id": "TQ-yqmEx8Dtq",
        "outputId": "a0bb4787-7665-4468-a962-3266abfafcb8",
        "colab": {
          "base_uri": "https://localhost:8080/",
          "height": 34
        }
      },
      "execution_count": null,
      "outputs": [
        {
          "output_type": "display_data",
          "data": {
            "text/html": [
              "TRUE"
            ],
            "text/markdown": "TRUE",
            "text/latex": "TRUE",
            "text/plain": [
              "[1] TRUE"
            ]
          },
          "metadata": {}
        }
      ]
    },
    {
      "cell_type": "markdown",
      "source": [
        "\n",
        "3.- `Character`: Las variables de tipo \"character\" almacenan cadenas de texto. Puedes identificar una variable como de tipo \"character\" si los valores están entre comillas (simples o dobles). Por ejemplo:\n"
      ],
      "metadata": {
        "id": "VclCbimO7TqN"
      }
    },
    {
      "cell_type": "code",
      "source": [
        "nombre <- \"Juan\"\n",
        "mensaje <- 'Hola, ¿cómo estás?'"
      ],
      "metadata": {
        "id": "UapKNBzu8Hfw"
      },
      "execution_count": null,
      "outputs": []
    },
    {
      "cell_type": "markdown",
      "source": [
        "\n",
        "4.- `Logical`: Las variables de tipo \"logical\" almacenan valores lógicos, es decir, valores booleanos que pueden ser TRUE (verdadero) o FALSE (falso). Puedes identificar una variable como de tipo \"logical\" si sus valores son TRUE o FALSE. Por ejemplo:\n"
      ],
      "metadata": {
        "id": "c3uSqB_f7VS9"
      }
    },
    {
      "cell_type": "code",
      "source": [
        "es_mayor_de_edad <- TRUE\n",
        "es_estudiante <- FALSE"
      ],
      "metadata": {
        "id": "0RQNUZH08JRy"
      },
      "execution_count": null,
      "outputs": []
    },
    {
      "cell_type": "markdown",
      "source": [
        "\n",
        "\n",
        "Puedes utilizar funciones como `class()` y `typeof()` para obtener información sobre el tipo de una variable en R. Por ejemplo:\n"
      ],
      "metadata": {
        "id": "5GOJ50o17YZP"
      }
    },
    {
      "cell_type": "code",
      "source": [
        "x <- 10\n",
        "class(x)    # Devuelve el nombre de la clase de la variable (\"numeric\")\n",
        "typeof(x)   # Devuelve el tipo subyacente de la variable (\"double\")"
      ],
      "metadata": {
        "id": "yivV1xDQ8LQP",
        "outputId": "510a67b1-1cbb-430a-826a-9a440c99f777",
        "colab": {
          "base_uri": "https://localhost:8080/",
          "height": 52
        }
      },
      "execution_count": null,
      "outputs": [
        {
          "output_type": "display_data",
          "data": {
            "text/html": [
              "'numeric'"
            ],
            "text/markdown": "'numeric'",
            "text/latex": "'numeric'",
            "text/plain": [
              "[1] \"numeric\""
            ]
          },
          "metadata": {}
        },
        {
          "output_type": "display_data",
          "data": {
            "text/html": [
              "'double'"
            ],
            "text/markdown": "'double'",
            "text/latex": "'double'",
            "text/plain": [
              "[1] \"double\""
            ]
          },
          "metadata": {}
        }
      ]
    },
    {
      "cell_type": "markdown",
      "source": [
        "\n",
        "Recuerda que en R, las variables son flexibles y pueden cambiar de tipo según los valores que les asignes. También puedes convertir una variable de un tipo a otro utilizando funciones específicas, como `as.numeric()`, `as.character()`, `as.logical()`, etc."
      ],
      "metadata": {
        "id": "y7lqUZsG7aSh"
      }
    },
    {
      "cell_type": "markdown",
      "metadata": {
        "id": "iEvV2Gjt7IgP"
      },
      "source": [
        "## Operaciones Básicas\n",
        "\n",
        "En R, puedes realizar una variedad de operaciones básicas con diferentes tipos de datos. Aquí tienes ejemplos de algunas operaciones comunes:\n",
        "\n",
        "1.- **Operaciones aritméticas básicas**:\n"
      ]
    },
    {
      "cell_type": "code",
      "source": [
        "x <- 5\n",
        "y <- 3\n",
        "\n",
        "# Operaciones\n",
        "suma <- x + y\n",
        "resta <- x - y\n",
        "multiplicacion <- x * y\n",
        "division <- x / y\n",
        "exponenciacion <- x^y\n",
        "\n",
        "# Imprimir resultados\n",
        "print(suma)            # Imprime: 8\n",
        "print(resta)           # Imprime: 2\n",
        "print(multiplicacion)  # Imprime: 15\n",
        "print(division)        # Imprime: 1.666667\n",
        "print(exponenciacion)  # Imprime: 125"
      ],
      "metadata": {
        "id": "EDm2mqjd8NYC",
        "outputId": "8c69c401-cc67-40f7-e79e-b23c9a6e2aae",
        "colab": {
          "base_uri": "https://localhost:8080/"
        }
      },
      "execution_count": null,
      "outputs": [
        {
          "output_type": "stream",
          "name": "stdout",
          "text": [
            "[1] 8\n",
            "[1] 2\n",
            "[1] 15\n",
            "[1] 1.666667\n",
            "[1] 125\n"
          ]
        }
      ]
    },
    {
      "cell_type": "markdown",
      "metadata": {
        "id": "t-jxF8FD7IgP"
      },
      "source": [
        "2.- **Operaciones de comparación**:\n",
        "\n",
        "**Igualdad**: Utiliza el operador \"==\" para comprobar si dos valores son iguales.\n"
      ]
    },
    {
      "cell_type": "code",
      "source": [
        "5 == 3  # Resultado: FALSE"
      ],
      "metadata": {
        "id": "4BZFHoZX8ay5",
        "outputId": "ac96fcd1-120b-44cb-a098-d47edcd37253",
        "colab": {
          "base_uri": "https://localhost:8080/",
          "height": 34
        }
      },
      "execution_count": null,
      "outputs": [
        {
          "output_type": "display_data",
          "data": {
            "text/html": [
              "FALSE"
            ],
            "text/markdown": "FALSE",
            "text/latex": "FALSE",
            "text/plain": [
              "[1] FALSE"
            ]
          },
          "metadata": {}
        }
      ]
    },
    {
      "cell_type": "markdown",
      "source": [
        "\n",
        "**Desigualdad**: Utiliza el operador \"!=\" para comprobar si dos valores son diferentes.\n"
      ],
      "metadata": {
        "id": "kWCJn3D37e66"
      }
    },
    {
      "cell_type": "code",
      "source": [
        "5 != 3  # Resultado: TRUE"
      ],
      "metadata": {
        "id": "ak2UmK8Z8chp",
        "outputId": "2bf109ef-9ce5-4297-a969-7310c0c33ee0",
        "colab": {
          "base_uri": "https://localhost:8080/",
          "height": 34
        }
      },
      "execution_count": null,
      "outputs": [
        {
          "output_type": "display_data",
          "data": {
            "text/html": [
              "TRUE"
            ],
            "text/markdown": "TRUE",
            "text/latex": "TRUE",
            "text/plain": [
              "[1] TRUE"
            ]
          },
          "metadata": {}
        }
      ]
    },
    {
      "cell_type": "markdown",
      "source": [
        "\n",
        "**Mayor que, menor que**: Utiliza los operadores \">\" y \"<\" para comparar si un valor es mayor o menor que otro.\n"
      ],
      "metadata": {
        "id": "Gbm9t3977g-D"
      }
    },
    {
      "cell_type": "code",
      "source": [
        "5 > 3  # Resultado: TRUE\n",
        "5 < 3  # Resultado: FALSE"
      ],
      "metadata": {
        "id": "qMfnjOAo8eWf",
        "outputId": "3a043fde-0c73-4fbe-bd5d-c66bd49780ff",
        "colab": {
          "base_uri": "https://localhost:8080/",
          "height": 52
        }
      },
      "execution_count": null,
      "outputs": [
        {
          "output_type": "display_data",
          "data": {
            "text/html": [
              "TRUE"
            ],
            "text/markdown": "TRUE",
            "text/latex": "TRUE",
            "text/plain": [
              "[1] TRUE"
            ]
          },
          "metadata": {}
        },
        {
          "output_type": "display_data",
          "data": {
            "text/html": [
              "FALSE"
            ],
            "text/markdown": "FALSE",
            "text/latex": "FALSE",
            "text/plain": [
              "[1] FALSE"
            ]
          },
          "metadata": {}
        }
      ]
    },
    {
      "cell_type": "markdown",
      "source": [
        "\n",
        "**Mayor o igual que, menor o igual que**: Utiliza los operadores \">=\" y \"<=\" para comparar si un valor es mayor o igual que otro, o menor o igual que otro.\n"
      ],
      "metadata": {
        "id": "ivXzqpot7ijp"
      }
    },
    {
      "cell_type": "code",
      "source": [
        "5 >= 3  # Resultado: TRUE\n",
        "5 <= 3  # Resultado: FALSE"
      ],
      "metadata": {
        "id": "Uv1dGtNh8gHl",
        "outputId": "d35166a6-b473-4907-b7e1-8693ad296381",
        "colab": {
          "base_uri": "https://localhost:8080/",
          "height": 52
        }
      },
      "execution_count": null,
      "outputs": [
        {
          "output_type": "display_data",
          "data": {
            "text/html": [
              "TRUE"
            ],
            "text/markdown": "TRUE",
            "text/latex": "TRUE",
            "text/plain": [
              "[1] TRUE"
            ]
          },
          "metadata": {}
        },
        {
          "output_type": "display_data",
          "data": {
            "text/html": [
              "FALSE"
            ],
            "text/markdown": "FALSE",
            "text/latex": "FALSE",
            "text/plain": [
              "[1] FALSE"
            ]
          },
          "metadata": {}
        }
      ]
    },
    {
      "cell_type": "markdown",
      "metadata": {
        "id": "LoM4HCuK7IgQ"
      },
      "source": [
        "3.- **Operaciones lógicas**:\n",
        "\n",
        "**Y lógico**: Utiliza el operador \"&\" para comprobar si dos condiciones son verdaderas.\n"
      ]
    },
    {
      "cell_type": "code",
      "source": [
        "(5 > 3) & (2 < 4)  # Resultado: TRUE"
      ],
      "metadata": {
        "id": "KNZL8Ay_8iaZ",
        "outputId": "013efed4-896f-4bb1-a6f5-fe8ea62143e5",
        "colab": {
          "base_uri": "https://localhost:8080/",
          "height": 34
        }
      },
      "execution_count": null,
      "outputs": [
        {
          "output_type": "display_data",
          "data": {
            "text/html": [
              "TRUE"
            ],
            "text/markdown": "TRUE",
            "text/latex": "TRUE",
            "text/plain": [
              "[1] TRUE"
            ]
          },
          "metadata": {}
        }
      ]
    },
    {
      "cell_type": "markdown",
      "source": [
        "\n",
        "**O lógico**: Utiliza el operador \"|\" para comprobar si al menos una de dos condiciones es verdadera.\n"
      ],
      "metadata": {
        "id": "XJay1I_I7lkn"
      }
    },
    {
      "cell_type": "code",
      "source": [
        "(5 > 3) | (2 > 4)  # Resultado: TRUE"
      ],
      "metadata": {
        "id": "XPtf35Xi8kmV",
        "outputId": "073ca108-7343-4fb3-c795-77aae83d0d47",
        "colab": {
          "base_uri": "https://localhost:8080/",
          "height": 34
        }
      },
      "execution_count": null,
      "outputs": [
        {
          "output_type": "display_data",
          "data": {
            "text/html": [
              "TRUE"
            ],
            "text/markdown": "TRUE",
            "text/latex": "TRUE",
            "text/plain": [
              "[1] TRUE"
            ]
          },
          "metadata": {}
        }
      ]
    },
    {
      "cell_type": "markdown",
      "source": [
        "\n",
        "**Negación**: Utiliza el operador \"!\" para negar una condición.\n",
        "\n"
      ],
      "metadata": {
        "id": "uhjCaYAt7nif"
      }
    },
    {
      "cell_type": "code",
      "source": [
        "!(5 > 3)  # Resultado: FALSE"
      ],
      "metadata": {
        "id": "DnjtX2eQ8mi5",
        "outputId": "1ab003e1-2c8e-4bce-cb90-70e11af49ecc",
        "colab": {
          "base_uri": "https://localhost:8080/",
          "height": 34
        }
      },
      "execution_count": null,
      "outputs": [
        {
          "output_type": "display_data",
          "data": {
            "text/html": [
              "FALSE"
            ],
            "text/markdown": "FALSE",
            "text/latex": "FALSE",
            "text/plain": [
              "[1] FALSE"
            ]
          },
          "metadata": {}
        }
      ]
    },
    {
      "cell_type": "markdown",
      "metadata": {
        "id": "5A7MxP0K7IgQ"
      },
      "source": [
        "## Estructuras de Datos\n",
        "\n",
        "R proporciona varias estructuras de datos para almacenar y manipular datos. Algunas de las principales estructuras de datos en R son las siguientes:\n",
        "\n",
        "1.- **Vector**: Un vector es una secuencia ordenada de elementos del mismo tipo. Puede ser de tipo numérico, entero, caracter, lógico, etc. Los elementos se pueden acceder utilizando índices.\n"
      ]
    },
    {
      "cell_type": "code",
      "source": [
        "vector_numerico <- c(1, 2, 3, 4, 5)\n",
        "vector_caracteres <- c(\"a\", \"b\", \"c\", \"d\")"
      ],
      "metadata": {
        "id": "tgCIc8Kz8oGJ"
      },
      "execution_count": null,
      "outputs": []
    },
    {
      "cell_type": "markdown",
      "source": [
        "\n",
        "2.- **Matriz**: Una matriz es una estructura bidimensional de elementos del mismo tipo. Se puede pensar como una tabla con filas y columnas, donde todos los elementos son del mismo tipo.\n",
        "\n"
      ],
      "metadata": {
        "id": "sosIMxoR7qmp"
      }
    },
    {
      "cell_type": "code",
      "source": [
        "matriz <- matrix(c(1, 2, 3, 4, 5, 6), nrow = 2, ncol = 3)"
      ],
      "metadata": {
        "id": "DzaQcYiN8p24"
      },
      "execution_count": null,
      "outputs": []
    },
    {
      "cell_type": "markdown",
      "source": [
        "\n",
        "\n",
        "3.- **DataFrame**: Un DataFrame es similar a una matriz, pero las columnas pueden tener diferentes tipos de datos. Se utiliza comúnmente para almacenar datos tabulares, donde cada columna representa una variable y cada fila representa una observación.\n",
        "\n"
      ],
      "metadata": {
        "id": "t16roQdL7s0V"
      }
    },
    {
      "cell_type": "code",
      "source": [
        "data_frame <- data.frame(nombre = c(\"Juan\", \"María\", \"Carlos\"),\n",
        "                         edad = c(25, 30, 35),\n",
        "                         sexo = c(\"M\", \"F\", \"M\"))"
      ],
      "metadata": {
        "id": "2nPE-UhX8ra-"
      },
      "execution_count": null,
      "outputs": []
    },
    {
      "cell_type": "markdown",
      "source": [
        "\n",
        "4.- **Lista**: Una lista es una colección ordenada de elementos que pueden ser de diferentes tipos. Cada elemento de la lista se puede acceder utilizando su nombre o índice.\n"
      ],
      "metadata": {
        "id": "AJm36zCs7ual"
      }
    },
    {
      "cell_type": "code",
      "source": [
        "lista <- list(nombre = \"Juan\", edad = 25, sexo = \"M\")"
      ],
      "metadata": {
        "id": "K9_HKFJo8tB-"
      },
      "execution_count": null,
      "outputs": []
    },
    {
      "cell_type": "markdown",
      "source": [
        "\n",
        "5.- **Factor**: Un factor se utiliza para representar variables categóricas o de factores. Es una estructura especializada que toma valores de un conjunto fijo de niveles.\n",
        "\n"
      ],
      "metadata": {
        "id": "clmhva2l7v6n"
      }
    },
    {
      "cell_type": "code",
      "source": [
        "genero <- factor(c(\"M\", \"F\", \"M\", \"F\"))"
      ],
      "metadata": {
        "id": "RyV7QvuD8vM1"
      },
      "execution_count": null,
      "outputs": []
    },
    {
      "cell_type": "markdown",
      "metadata": {
        "id": "7_x3-5Ky7IgQ"
      },
      "source": [
        "## Control de Flujo\n",
        "\n",
        "En R, el control de flujo se refiere a la capacidad de dirigir el flujo de ejecución del código en función de condiciones y estructuras lógicas. Aquí tienes algunas de las principales estructuras de control de flujo en R:\n",
        "\n",
        "1.- **Estructura if-else**: Esta estructura permite ejecutar diferentes bloques de código según una condición.\n"
      ]
    },
    {
      "cell_type": "markdown",
      "source": [
        "\n",
        "```R\n",
        "if (condicion) {\n",
        "  # código a ejecutar si la condición es verdadera\n",
        "} else {\n",
        "  # código a ejecutar si la condición es falsa\n",
        "}\n",
        "```\n",
        "\n",
        "Por ejemplo:\n"
      ],
      "metadata": {
        "id": "WIlk-kkd7xGK"
      }
    },
    {
      "cell_type": "code",
      "source": [
        "x <- 5\n",
        "if (x > 0) {\n",
        "  print(\"x es positivo\")\n",
        "} else {\n",
        "  print(\"x es negativo o cero\")\n",
        "}"
      ],
      "metadata": {
        "id": "Q1lTviZI82sm",
        "outputId": "b6313aa2-1b64-4ca9-8eb9-26dd10270f63",
        "colab": {
          "base_uri": "https://localhost:8080/"
        }
      },
      "execution_count": null,
      "outputs": [
        {
          "output_type": "stream",
          "name": "stdout",
          "text": [
            "[1] \"x es positivo\"\n"
          ]
        }
      ]
    },
    {
      "cell_type": "markdown",
      "source": [
        "2.- **Estructura for**: Se utiliza para iterar sobre una secuencia de valores o elementos de una estructura de datos.\n",
        "\n",
        "\n",
        "```R\n",
        "for (variable in secuencia) {\n",
        "  # código a ejecutar en cada iteración\n",
        "}\n",
        "```\n",
        "\n",
        "Por ejemplo:\n",
        "\n"
      ],
      "metadata": {
        "id": "MUlu0s1i81FZ"
      }
    },
    {
      "cell_type": "code",
      "source": [
        "for (i in 1:5) {\n",
        "  print(i)\n",
        "}"
      ],
      "metadata": {
        "id": "4FIlmTrz9EeL",
        "outputId": "e1c37d6e-d06f-421f-fbf6-ed105d0305a3",
        "colab": {
          "base_uri": "https://localhost:8080/"
        }
      },
      "execution_count": null,
      "outputs": [
        {
          "output_type": "stream",
          "name": "stdout",
          "text": [
            "[1] 1\n",
            "[1] 2\n",
            "[1] 3\n",
            "[1] 4\n",
            "[1] 5\n"
          ]
        }
      ]
    },
    {
      "cell_type": "markdown",
      "source": [
        "\n",
        "3.- **Estructura while**: Se utiliza para repetir un bloque de código mientras una condición sea verdadera.\n",
        "\n",
        "\n",
        "```R\n",
        "while (condicion) {\n",
        "  # código a ejecutar mientras la condición sea verdadera\n",
        "}\n",
        "```\n",
        "\n",
        "Por ejemplo:\n"
      ],
      "metadata": {
        "id": "Prt6DzZu8-8e"
      }
    },
    {
      "cell_type": "code",
      "source": [
        "x <- 1\n",
        "while (x <= 5) {\n",
        "  print(x)\n",
        "  x <- x + 1\n",
        "}"
      ],
      "metadata": {
        "id": "sEH_ZJX19Hxd",
        "outputId": "5bd4d408-3c24-4016-c7cc-530845a0df5f",
        "colab": {
          "base_uri": "https://localhost:8080/"
        }
      },
      "execution_count": null,
      "outputs": [
        {
          "output_type": "stream",
          "name": "stdout",
          "text": [
            "[1] 1\n",
            "[1] 2\n",
            "[1] 3\n",
            "[1] 4\n",
            "[1] 5\n"
          ]
        }
      ]
    },
    {
      "cell_type": "markdown",
      "source": [
        "\n",
        "4.- **Estructura repeat**: Se utiliza para crear un bucle infinito que se rompe cuando se cumple una condición específica.\n",
        "\n",
        "\n",
        "```R\n",
        "repeat {\n",
        "  # código a ejecutar en cada iteración\n",
        "  if (condicion) {\n",
        "    break  # rompe el bucle\n",
        "  }\n",
        "}\n",
        "```\n",
        "\n",
        "Por ejemplo:\n",
        "\n"
      ],
      "metadata": {
        "id": "99EhMlQ49Bcw"
      }
    },
    {
      "cell_type": "code",
      "source": [
        "x <- 1\n",
        "repeat {\n",
        "  print(x)\n",
        "  x <- x + 1\n",
        "  if (x > 5) {\n",
        "    break\n",
        "  }\n",
        "}"
      ],
      "metadata": {
        "id": "VnZGdEYv9Jix",
        "outputId": "d6b4e98e-e61c-4da8-d017-9dec863ebfac",
        "colab": {
          "base_uri": "https://localhost:8080/"
        }
      },
      "execution_count": null,
      "outputs": [
        {
          "output_type": "stream",
          "name": "stdout",
          "text": [
            "[1] 1\n",
            "[1] 2\n",
            "[1] 3\n",
            "[1] 4\n",
            "[1] 5\n"
          ]
        }
      ]
    },
    {
      "cell_type": "markdown",
      "metadata": {
        "id": "mFy2a0UT7IgR"
      },
      "source": [
        "## Funciones\n",
        "\n",
        "En R, puedes definir y utilizar funciones para encapsular un conjunto de instrucciones y realizar tareas específicas. Aquí tienes los fundamentos de cómo crear y usar funciones en R:\n",
        "\n",
        "1.- **Definir una función**: Para definir una función en R, utiliza la palabra clave function seguida de los parámetros entre paréntesis y las instrucciones entre llaves. Puedes utilizar el operador de asignación <- para asignar la función a un nombre.\n",
        "\n",
        "\n",
        "```R\n",
        "nombre_funcion <- function(parametro1, parametro2, ...) {\n",
        "  # código de la función\n",
        "  # return(resultado)  # opcional, si deseas devolver un resultado\n",
        "}\n",
        "```\n",
        "\n",
        "**Llamar a una función**: Para llamar a una función, simplemente escribe el nombre de la función seguido de los argumentos entre paréntesis.\n",
        "\n",
        "\n",
        "```R\n",
        "nombre_funcion(argumento1, argumento2, ...)\n",
        "```\n",
        "\n",
        "Ejemplo de una función simple:\n",
        "\n"
      ]
    },
    {
      "cell_type": "code",
      "source": [
        "# Definir la función\n",
        "sumar <- function(a, b) {\n",
        "  resultado <- a + b\n",
        "  return(resultado)\n",
        "}\n",
        "\n",
        "# Llamar a la función\n",
        "resultado_suma <- sumar(3, 5)\n",
        "print(resultado_suma)  # Imprime: 8"
      ],
      "metadata": {
        "id": "upjHkjX19Lvh",
        "outputId": "bd15dfb6-340b-42a9-dc00-d699304d2e92",
        "colab": {
          "base_uri": "https://localhost:8080/"
        }
      },
      "execution_count": null,
      "outputs": [
        {
          "output_type": "stream",
          "name": "stdout",
          "text": [
            "[1] 8\n"
          ]
        }
      ]
    },
    {
      "cell_type": "markdown",
      "source": [
        "\n",
        "2.- **Parámetros predeterminados**: Puedes asignar valores predeterminados a los parámetros de una función. Esto permite que los argumentos sean opcionales cuando se llama a la función.\n",
        "\n"
      ],
      "metadata": {
        "id": "GqSGgfzp73gf"
      }
    },
    {
      "cell_type": "code",
      "source": [
        "saludar <- function(nombre = \"Amigo\") {\n",
        "  mensaje <- paste(\"Hola\", nombre)\n",
        "  print(mensaje)\n",
        "}\n",
        "\n",
        "saludar()  # Imprime: \"Hola Amigo\"\n",
        "saludar(\"Juan\")  # Imprime: \"Hola Juan\""
      ],
      "metadata": {
        "id": "wk1GOsPD9OFS",
        "outputId": "9bc860f6-d5dc-49c6-9210-4707dc00deb3",
        "colab": {
          "base_uri": "https://localhost:8080/"
        }
      },
      "execution_count": null,
      "outputs": [
        {
          "output_type": "stream",
          "name": "stdout",
          "text": [
            "[1] \"Hola Amigo\"\n",
            "[1] \"Hola Juan\"\n"
          ]
        }
      ]
    },
    {
      "cell_type": "markdown",
      "source": [
        "\n",
        "3.- **Argumentos nombrados**: Puedes llamar a una función utilizando argumentos nombrados en lugar de posición. Esto proporciona más flexibilidad al especificar los valores de los argumentos.\n"
      ],
      "metadata": {
        "id": "Ev9JdJLb76O0"
      }
    },
    {
      "cell_type": "code",
      "source": [
        "multiplicar <- function(a, b) {\n",
        "  resultado <- a * b\n",
        "  print(resultado)\n",
        "}\n",
        "\n",
        "multiplicar(b = 4, a = 2)  # Imprime: 8"
      ],
      "metadata": {
        "id": "unOIKZ5p9Pqq",
        "outputId": "637ad249-02c4-4c7a-f932-ccdff95e7955",
        "colab": {
          "base_uri": "https://localhost:8080/"
        }
      },
      "execution_count": null,
      "outputs": [
        {
          "output_type": "stream",
          "name": "stdout",
          "text": [
            "[1] 8\n"
          ]
        }
      ]
    },
    {
      "cell_type": "markdown",
      "source": [
        "\n",
        "\n",
        "4.- **Funciones con múltiples resultados**: Una función en R puede devolver múltiples valores utilizando la función list() para agruparlos.\n"
      ],
      "metadata": {
        "id": "mJJMOH_l79By"
      }
    },
    {
      "cell_type": "code",
      "source": [
        "calcular_estadisticas <- function(datos) {\n",
        "  media <- mean(datos)\n",
        "  mediana <- median(datos)\n",
        "  varianza <- var(datos)\n",
        "  resultados <- list(media = media, mediana = mediana, varianza = varianza)\n",
        "  return(resultados)\n",
        "}\n",
        "\n",
        "resultados <- calcular_estadisticas(c(1, 2, 3, 4, 5))\n",
        "print(resultados$media)  # Imprime: 3\n",
        "print(resultados$mediana)  # Imprime: 3\n",
        "print(resultados$varianza)  # Imprime: 2.5"
      ],
      "metadata": {
        "id": "Kq7HSzfs9Rbg",
        "outputId": "650d2f55-1b6a-4b42-b9d8-428bdb9eab31",
        "colab": {
          "base_uri": "https://localhost:8080/"
        }
      },
      "execution_count": null,
      "outputs": [
        {
          "output_type": "stream",
          "name": "stdout",
          "text": [
            "[1] 3\n",
            "[1] 3\n",
            "[1] 2.5\n"
          ]
        }
      ]
    }
  ],
  "metadata": {
    "colab": {
      "provenance": []
    },
    "kernelspec": {
      "display_name": "R",
      "name": "ir"
    },
    "language_info": {
      "name": "R"
    }
  },
  "nbformat": 4,
  "nbformat_minor": 0
}